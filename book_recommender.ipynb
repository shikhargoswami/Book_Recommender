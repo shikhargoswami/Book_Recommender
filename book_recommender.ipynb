{
  "nbformat": 4,
  "nbformat_minor": 0,
  "metadata": {
    "kernelspec": {
      "display_name": "Python 3",
      "language": "python",
      "name": "python3"
    },
    "colab": {
      "name": "book_recommender.ipynb",
      "provenance": [],
      "include_colab_link": true
    }
  },
  "cells": [
    {
      "cell_type": "markdown",
      "metadata": {
        "id": "view-in-github",
        "colab_type": "text"
      },
      "source": [
        "<a href=\"https://colab.research.google.com/github/shikhargoswami/Book_Recommender/blob/master/book_recommender.ipynb\" target=\"_parent\"><img src=\"https://colab.research.google.com/assets/colab-badge.svg\" alt=\"Open In Colab\"/></a>"
      ]
    },
    {
      "cell_type": "markdown",
      "metadata": {
        "id": "UxNHAQowEFTA",
        "colab_type": "text"
      },
      "source": [
        "# Setup and Data Loading"
      ]
    },
    {
      "cell_type": "code",
      "metadata": {
        "id": "IqQ0nCZTEFTB",
        "colab_type": "code",
        "colab": {}
      },
      "source": [
        "import numpy as np\n",
        "import pandas as pd\n",
        "import matplotlib.pyplot as plt\n",
        "%matplotlib inline\n",
        "import seaborn as sns\n",
        "import os\n",
        "from google.colab import drive"
      ],
      "execution_count": 95,
      "outputs": []
    },
    {
      "cell_type": "code",
      "metadata": {
        "id": "MwsPTSilEl0z",
        "colab_type": "code",
        "colab": {
          "base_uri": "https://localhost:8080/",
          "height": 0
        },
        "outputId": "a48d02be-0f1e-447d-a7d6-a23c5b08b844"
      },
      "source": [
        "drive.mount('/gdrive')"
      ],
      "execution_count": 96,
      "outputs": [
        {
          "output_type": "stream",
          "text": [
            "Drive already mounted at /gdrive; to attempt to forcibly remount, call drive.mount(\"/gdrive\", force_remount=True).\n"
          ],
          "name": "stdout"
        }
      ]
    },
    {
      "cell_type": "code",
      "metadata": {
        "id": "lW0P07VBEFTE",
        "colab_type": "code",
        "colab": {}
      },
      "source": [
        "os.chdir('/gdrive/My Drive/Book Recommender')\n",
        "root = os.getcwd()"
      ],
      "execution_count": 97,
      "outputs": []
    },
    {
      "cell_type": "code",
      "metadata": {
        "id": "3iLhzZtwEFTG",
        "colab_type": "code",
        "colab": {}
      },
      "source": [
        "data_path = os.path.join(root, 'dataset')"
      ],
      "execution_count": 98,
      "outputs": []
    },
    {
      "cell_type": "code",
      "metadata": {
        "id": "y0XSFnz-EFTI",
        "colab_type": "code",
        "colab": {
          "base_uri": "https://localhost:8080/",
          "height": 0
        },
        "outputId": "29e0d083-f4ae-4926-c1a8-2ceafc65b7c4"
      },
      "source": [
        "os.listdir(data_path)"
      ],
      "execution_count": 99,
      "outputs": [
        {
          "output_type": "execute_result",
          "data": {
            "text/plain": [
              "['book_tags.csv',\n",
              " 'books.csv',\n",
              " 'ratings.csv',\n",
              " 'sample_book.xml',\n",
              " 'to_read.csv',\n",
              " 'tags.csv']"
            ]
          },
          "metadata": {
            "tags": []
          },
          "execution_count": 99
        }
      ]
    },
    {
      "cell_type": "code",
      "metadata": {
        "id": "ly2SnoTREFTL",
        "colab_type": "code",
        "colab": {}
      },
      "source": [
        "ratings = pd.read_csv(data_path+'/ratings.csv')\n",
        "books = pd.read_csv(data_path+'/books.csv')\n",
        "book_tags = pd.read_csv(data_path+'/book_tags.csv')\n",
        "tags = pd.read_csv(data_path+'/tags.csv')"
      ],
      "execution_count": 100,
      "outputs": []
    },
    {
      "cell_type": "code",
      "metadata": {
        "id": "fsGh4VErEFTN",
        "colab_type": "code",
        "colab": {
          "base_uri": "https://localhost:8080/",
          "height": 0
        },
        "outputId": "052fbf24-ea8f-4c29-805a-f578ebde7160"
      },
      "source": [
        "ratings.head()"
      ],
      "execution_count": 101,
      "outputs": [
        {
          "output_type": "execute_result",
          "data": {
            "text/html": [
              "<div>\n",
              "<style scoped>\n",
              "    .dataframe tbody tr th:only-of-type {\n",
              "        vertical-align: middle;\n",
              "    }\n",
              "\n",
              "    .dataframe tbody tr th {\n",
              "        vertical-align: top;\n",
              "    }\n",
              "\n",
              "    .dataframe thead th {\n",
              "        text-align: right;\n",
              "    }\n",
              "</style>\n",
              "<table border=\"1\" class=\"dataframe\">\n",
              "  <thead>\n",
              "    <tr style=\"text-align: right;\">\n",
              "      <th></th>\n",
              "      <th>book_id</th>\n",
              "      <th>user_id</th>\n",
              "      <th>rating</th>\n",
              "    </tr>\n",
              "  </thead>\n",
              "  <tbody>\n",
              "    <tr>\n",
              "      <th>0</th>\n",
              "      <td>1</td>\n",
              "      <td>314</td>\n",
              "      <td>5</td>\n",
              "    </tr>\n",
              "    <tr>\n",
              "      <th>1</th>\n",
              "      <td>1</td>\n",
              "      <td>439</td>\n",
              "      <td>3</td>\n",
              "    </tr>\n",
              "    <tr>\n",
              "      <th>2</th>\n",
              "      <td>1</td>\n",
              "      <td>588</td>\n",
              "      <td>5</td>\n",
              "    </tr>\n",
              "    <tr>\n",
              "      <th>3</th>\n",
              "      <td>1</td>\n",
              "      <td>1169</td>\n",
              "      <td>4</td>\n",
              "    </tr>\n",
              "    <tr>\n",
              "      <th>4</th>\n",
              "      <td>1</td>\n",
              "      <td>1185</td>\n",
              "      <td>4</td>\n",
              "    </tr>\n",
              "  </tbody>\n",
              "</table>\n",
              "</div>"
            ],
            "text/plain": [
              "   book_id  user_id  rating\n",
              "0        1      314       5\n",
              "1        1      439       3\n",
              "2        1      588       5\n",
              "3        1     1169       4\n",
              "4        1     1185       4"
            ]
          },
          "metadata": {
            "tags": []
          },
          "execution_count": 101
        }
      ]
    },
    {
      "cell_type": "code",
      "metadata": {
        "id": "_WLt_EqzEFTP",
        "colab_type": "code",
        "colab": {
          "base_uri": "https://localhost:8080/",
          "height": 0
        },
        "outputId": "f58e8f13-a35f-4c1b-b119-2e9c9cf1256a"
      },
      "source": [
        "books.head()"
      ],
      "execution_count": 102,
      "outputs": [
        {
          "output_type": "execute_result",
          "data": {
            "text/html": [
              "<div>\n",
              "<style scoped>\n",
              "    .dataframe tbody tr th:only-of-type {\n",
              "        vertical-align: middle;\n",
              "    }\n",
              "\n",
              "    .dataframe tbody tr th {\n",
              "        vertical-align: top;\n",
              "    }\n",
              "\n",
              "    .dataframe thead th {\n",
              "        text-align: right;\n",
              "    }\n",
              "</style>\n",
              "<table border=\"1\" class=\"dataframe\">\n",
              "  <thead>\n",
              "    <tr style=\"text-align: right;\">\n",
              "      <th></th>\n",
              "      <th>id</th>\n",
              "      <th>book_id</th>\n",
              "      <th>best_book_id</th>\n",
              "      <th>work_id</th>\n",
              "      <th>books_count</th>\n",
              "      <th>isbn</th>\n",
              "      <th>isbn13</th>\n",
              "      <th>authors</th>\n",
              "      <th>original_publication_year</th>\n",
              "      <th>original_title</th>\n",
              "      <th>title</th>\n",
              "      <th>language_code</th>\n",
              "      <th>average_rating</th>\n",
              "      <th>ratings_count</th>\n",
              "      <th>work_ratings_count</th>\n",
              "      <th>work_text_reviews_count</th>\n",
              "      <th>ratings_1</th>\n",
              "      <th>ratings_2</th>\n",
              "      <th>ratings_3</th>\n",
              "      <th>ratings_4</th>\n",
              "      <th>ratings_5</th>\n",
              "      <th>image_url</th>\n",
              "      <th>small_image_url</th>\n",
              "    </tr>\n",
              "  </thead>\n",
              "  <tbody>\n",
              "    <tr>\n",
              "      <th>0</th>\n",
              "      <td>1</td>\n",
              "      <td>2767052</td>\n",
              "      <td>2767052</td>\n",
              "      <td>2792775</td>\n",
              "      <td>272</td>\n",
              "      <td>439023483</td>\n",
              "      <td>9.780439e+12</td>\n",
              "      <td>Suzanne Collins</td>\n",
              "      <td>2008.0</td>\n",
              "      <td>The Hunger Games</td>\n",
              "      <td>The Hunger Games (The Hunger Games, #1)</td>\n",
              "      <td>eng</td>\n",
              "      <td>4.34</td>\n",
              "      <td>4780653</td>\n",
              "      <td>4942365</td>\n",
              "      <td>155254</td>\n",
              "      <td>66715</td>\n",
              "      <td>127936</td>\n",
              "      <td>560092</td>\n",
              "      <td>1481305</td>\n",
              "      <td>2706317</td>\n",
              "      <td>https://images.gr-assets.com/books/1447303603m...</td>\n",
              "      <td>https://images.gr-assets.com/books/1447303603s...</td>\n",
              "    </tr>\n",
              "    <tr>\n",
              "      <th>1</th>\n",
              "      <td>2</td>\n",
              "      <td>3</td>\n",
              "      <td>3</td>\n",
              "      <td>4640799</td>\n",
              "      <td>491</td>\n",
              "      <td>439554934</td>\n",
              "      <td>9.780440e+12</td>\n",
              "      <td>J.K. Rowling, Mary GrandPré</td>\n",
              "      <td>1997.0</td>\n",
              "      <td>Harry Potter and the Philosopher's Stone</td>\n",
              "      <td>Harry Potter and the Sorcerer's Stone (Harry P...</td>\n",
              "      <td>eng</td>\n",
              "      <td>4.44</td>\n",
              "      <td>4602479</td>\n",
              "      <td>4800065</td>\n",
              "      <td>75867</td>\n",
              "      <td>75504</td>\n",
              "      <td>101676</td>\n",
              "      <td>455024</td>\n",
              "      <td>1156318</td>\n",
              "      <td>3011543</td>\n",
              "      <td>https://images.gr-assets.com/books/1474154022m...</td>\n",
              "      <td>https://images.gr-assets.com/books/1474154022s...</td>\n",
              "    </tr>\n",
              "    <tr>\n",
              "      <th>2</th>\n",
              "      <td>3</td>\n",
              "      <td>41865</td>\n",
              "      <td>41865</td>\n",
              "      <td>3212258</td>\n",
              "      <td>226</td>\n",
              "      <td>316015849</td>\n",
              "      <td>9.780316e+12</td>\n",
              "      <td>Stephenie Meyer</td>\n",
              "      <td>2005.0</td>\n",
              "      <td>Twilight</td>\n",
              "      <td>Twilight (Twilight, #1)</td>\n",
              "      <td>en-US</td>\n",
              "      <td>3.57</td>\n",
              "      <td>3866839</td>\n",
              "      <td>3916824</td>\n",
              "      <td>95009</td>\n",
              "      <td>456191</td>\n",
              "      <td>436802</td>\n",
              "      <td>793319</td>\n",
              "      <td>875073</td>\n",
              "      <td>1355439</td>\n",
              "      <td>https://images.gr-assets.com/books/1361039443m...</td>\n",
              "      <td>https://images.gr-assets.com/books/1361039443s...</td>\n",
              "    </tr>\n",
              "    <tr>\n",
              "      <th>3</th>\n",
              "      <td>4</td>\n",
              "      <td>2657</td>\n",
              "      <td>2657</td>\n",
              "      <td>3275794</td>\n",
              "      <td>487</td>\n",
              "      <td>61120081</td>\n",
              "      <td>9.780061e+12</td>\n",
              "      <td>Harper Lee</td>\n",
              "      <td>1960.0</td>\n",
              "      <td>To Kill a Mockingbird</td>\n",
              "      <td>To Kill a Mockingbird</td>\n",
              "      <td>eng</td>\n",
              "      <td>4.25</td>\n",
              "      <td>3198671</td>\n",
              "      <td>3340896</td>\n",
              "      <td>72586</td>\n",
              "      <td>60427</td>\n",
              "      <td>117415</td>\n",
              "      <td>446835</td>\n",
              "      <td>1001952</td>\n",
              "      <td>1714267</td>\n",
              "      <td>https://images.gr-assets.com/books/1361975680m...</td>\n",
              "      <td>https://images.gr-assets.com/books/1361975680s...</td>\n",
              "    </tr>\n",
              "    <tr>\n",
              "      <th>4</th>\n",
              "      <td>5</td>\n",
              "      <td>4671</td>\n",
              "      <td>4671</td>\n",
              "      <td>245494</td>\n",
              "      <td>1356</td>\n",
              "      <td>743273567</td>\n",
              "      <td>9.780743e+12</td>\n",
              "      <td>F. Scott Fitzgerald</td>\n",
              "      <td>1925.0</td>\n",
              "      <td>The Great Gatsby</td>\n",
              "      <td>The Great Gatsby</td>\n",
              "      <td>eng</td>\n",
              "      <td>3.89</td>\n",
              "      <td>2683664</td>\n",
              "      <td>2773745</td>\n",
              "      <td>51992</td>\n",
              "      <td>86236</td>\n",
              "      <td>197621</td>\n",
              "      <td>606158</td>\n",
              "      <td>936012</td>\n",
              "      <td>947718</td>\n",
              "      <td>https://images.gr-assets.com/books/1490528560m...</td>\n",
              "      <td>https://images.gr-assets.com/books/1490528560s...</td>\n",
              "    </tr>\n",
              "  </tbody>\n",
              "</table>\n",
              "</div>"
            ],
            "text/plain": [
              "   id  ...                                    small_image_url\n",
              "0   1  ...  https://images.gr-assets.com/books/1447303603s...\n",
              "1   2  ...  https://images.gr-assets.com/books/1474154022s...\n",
              "2   3  ...  https://images.gr-assets.com/books/1361039443s...\n",
              "3   4  ...  https://images.gr-assets.com/books/1361975680s...\n",
              "4   5  ...  https://images.gr-assets.com/books/1490528560s...\n",
              "\n",
              "[5 rows x 23 columns]"
            ]
          },
          "metadata": {
            "tags": []
          },
          "execution_count": 102
        }
      ]
    },
    {
      "cell_type": "code",
      "metadata": {
        "id": "xivjKMWcEFTR",
        "colab_type": "code",
        "colab": {
          "base_uri": "https://localhost:8080/",
          "height": 0
        },
        "outputId": "912af1f7-fdc0-4bf8-ca0a-f2d060a7f405"
      },
      "source": [
        "book_tags.head()"
      ],
      "execution_count": 103,
      "outputs": [
        {
          "output_type": "execute_result",
          "data": {
            "text/html": [
              "<div>\n",
              "<style scoped>\n",
              "    .dataframe tbody tr th:only-of-type {\n",
              "        vertical-align: middle;\n",
              "    }\n",
              "\n",
              "    .dataframe tbody tr th {\n",
              "        vertical-align: top;\n",
              "    }\n",
              "\n",
              "    .dataframe thead th {\n",
              "        text-align: right;\n",
              "    }\n",
              "</style>\n",
              "<table border=\"1\" class=\"dataframe\">\n",
              "  <thead>\n",
              "    <tr style=\"text-align: right;\">\n",
              "      <th></th>\n",
              "      <th>goodreads_book_id</th>\n",
              "      <th>tag_id</th>\n",
              "      <th>count</th>\n",
              "    </tr>\n",
              "  </thead>\n",
              "  <tbody>\n",
              "    <tr>\n",
              "      <th>0</th>\n",
              "      <td>1</td>\n",
              "      <td>30574</td>\n",
              "      <td>167697</td>\n",
              "    </tr>\n",
              "    <tr>\n",
              "      <th>1</th>\n",
              "      <td>1</td>\n",
              "      <td>11305</td>\n",
              "      <td>37174</td>\n",
              "    </tr>\n",
              "    <tr>\n",
              "      <th>2</th>\n",
              "      <td>1</td>\n",
              "      <td>11557</td>\n",
              "      <td>34173</td>\n",
              "    </tr>\n",
              "    <tr>\n",
              "      <th>3</th>\n",
              "      <td>1</td>\n",
              "      <td>8717</td>\n",
              "      <td>12986</td>\n",
              "    </tr>\n",
              "    <tr>\n",
              "      <th>4</th>\n",
              "      <td>1</td>\n",
              "      <td>33114</td>\n",
              "      <td>12716</td>\n",
              "    </tr>\n",
              "  </tbody>\n",
              "</table>\n",
              "</div>"
            ],
            "text/plain": [
              "   goodreads_book_id  tag_id   count\n",
              "0                  1   30574  167697\n",
              "1                  1   11305   37174\n",
              "2                  1   11557   34173\n",
              "3                  1    8717   12986\n",
              "4                  1   33114   12716"
            ]
          },
          "metadata": {
            "tags": []
          },
          "execution_count": 103
        }
      ]
    },
    {
      "cell_type": "code",
      "metadata": {
        "id": "12YjrlZdEFTU",
        "colab_type": "code",
        "colab": {
          "base_uri": "https://localhost:8080/",
          "height": 0
        },
        "outputId": "94009498-3ce0-40c3-ed1a-c5ffbd957b73"
      },
      "source": [
        "tags.head()"
      ],
      "execution_count": 104,
      "outputs": [
        {
          "output_type": "execute_result",
          "data": {
            "text/html": [
              "<div>\n",
              "<style scoped>\n",
              "    .dataframe tbody tr th:only-of-type {\n",
              "        vertical-align: middle;\n",
              "    }\n",
              "\n",
              "    .dataframe tbody tr th {\n",
              "        vertical-align: top;\n",
              "    }\n",
              "\n",
              "    .dataframe thead th {\n",
              "        text-align: right;\n",
              "    }\n",
              "</style>\n",
              "<table border=\"1\" class=\"dataframe\">\n",
              "  <thead>\n",
              "    <tr style=\"text-align: right;\">\n",
              "      <th></th>\n",
              "      <th>tag_id</th>\n",
              "      <th>tag_name</th>\n",
              "    </tr>\n",
              "  </thead>\n",
              "  <tbody>\n",
              "    <tr>\n",
              "      <th>0</th>\n",
              "      <td>0</td>\n",
              "      <td>-</td>\n",
              "    </tr>\n",
              "    <tr>\n",
              "      <th>1</th>\n",
              "      <td>1</td>\n",
              "      <td>--1-</td>\n",
              "    </tr>\n",
              "    <tr>\n",
              "      <th>2</th>\n",
              "      <td>2</td>\n",
              "      <td>--10-</td>\n",
              "    </tr>\n",
              "    <tr>\n",
              "      <th>3</th>\n",
              "      <td>3</td>\n",
              "      <td>--12-</td>\n",
              "    </tr>\n",
              "    <tr>\n",
              "      <th>4</th>\n",
              "      <td>4</td>\n",
              "      <td>--122-</td>\n",
              "    </tr>\n",
              "  </tbody>\n",
              "</table>\n",
              "</div>"
            ],
            "text/plain": [
              "   tag_id tag_name\n",
              "0       0        -\n",
              "1       1     --1-\n",
              "2       2    --10-\n",
              "3       3    --12-\n",
              "4       4   --122-"
            ]
          },
          "metadata": {
            "tags": []
          },
          "execution_count": 104
        }
      ]
    },
    {
      "cell_type": "markdown",
      "metadata": {
        "id": "Xm0sqPbxEFTW",
        "colab_type": "text"
      },
      "source": [
        "# Data Exploration"
      ]
    },
    {
      "cell_type": "markdown",
      "metadata": {
        "id": "2KjfmfRREFTW",
        "colab_type": "text"
      },
      "source": [
        "**Missing values**"
      ]
    },
    {
      "cell_type": "code",
      "metadata": {
        "id": "jb_IfzWyEFTX",
        "colab_type": "code",
        "colab": {
          "base_uri": "https://localhost:8080/",
          "height": 84
        },
        "outputId": "52244c22-02e6-49d2-e1f4-cb196649d1a4"
      },
      "source": [
        "ratings.isna().sum()"
      ],
      "execution_count": 105,
      "outputs": [
        {
          "output_type": "execute_result",
          "data": {
            "text/plain": [
              "book_id    0\n",
              "user_id    0\n",
              "rating     0\n",
              "dtype: int64"
            ]
          },
          "metadata": {
            "tags": []
          },
          "execution_count": 105
        }
      ]
    },
    {
      "cell_type": "code",
      "metadata": {
        "id": "ER9gp4BtEFTZ",
        "colab_type": "code",
        "colab": {
          "base_uri": "https://localhost:8080/",
          "height": 420
        },
        "outputId": "589cf6d9-b208-4e31-dba3-66fe13b5a3c6"
      },
      "source": [
        "books.isna().sum()"
      ],
      "execution_count": 106,
      "outputs": [
        {
          "output_type": "execute_result",
          "data": {
            "text/plain": [
              "id                              0\n",
              "book_id                         0\n",
              "best_book_id                    0\n",
              "work_id                         0\n",
              "books_count                     0\n",
              "isbn                          700\n",
              "isbn13                        585\n",
              "authors                         0\n",
              "original_publication_year      21\n",
              "original_title                585\n",
              "title                           0\n",
              "language_code                1084\n",
              "average_rating                  0\n",
              "ratings_count                   0\n",
              "work_ratings_count              0\n",
              "work_text_reviews_count         0\n",
              "ratings_1                       0\n",
              "ratings_2                       0\n",
              "ratings_3                       0\n",
              "ratings_4                       0\n",
              "ratings_5                       0\n",
              "image_url                       0\n",
              "small_image_url                 0\n",
              "dtype: int64"
            ]
          },
          "metadata": {
            "tags": []
          },
          "execution_count": 106
        }
      ]
    },
    {
      "cell_type": "code",
      "metadata": {
        "id": "Zv4wUOwsEFTb",
        "colab_type": "code",
        "colab": {
          "base_uri": "https://localhost:8080/",
          "height": 84
        },
        "outputId": "e16ed987-42ba-40db-d18a-bf35bee8352e"
      },
      "source": [
        "book_tags.isna().sum()"
      ],
      "execution_count": 107,
      "outputs": [
        {
          "output_type": "execute_result",
          "data": {
            "text/plain": [
              "goodreads_book_id    0\n",
              "tag_id               0\n",
              "count                0\n",
              "dtype: int64"
            ]
          },
          "metadata": {
            "tags": []
          },
          "execution_count": 107
        }
      ]
    },
    {
      "cell_type": "code",
      "metadata": {
        "id": "cEPxQehsEFTd",
        "colab_type": "code",
        "colab": {
          "base_uri": "https://localhost:8080/",
          "height": 67
        },
        "outputId": "becf6fe3-ecdc-4eb9-df82-b954e7bd7627"
      },
      "source": [
        "tags.isna().sum()"
      ],
      "execution_count": 108,
      "outputs": [
        {
          "output_type": "execute_result",
          "data": {
            "text/plain": [
              "tag_id      0\n",
              "tag_name    0\n",
              "dtype: int64"
            ]
          },
          "metadata": {
            "tags": []
          },
          "execution_count": 108
        }
      ]
    },
    {
      "cell_type": "markdown",
      "metadata": {
        "id": "BjamZCN_EFTf",
        "colab_type": "text"
      },
      "source": [
        "**Conclusion:** Data is clean, missing values are only in the columns that are not important"
      ]
    },
    {
      "cell_type": "code",
      "metadata": {
        "id": "Tz8lCYZHEFTf",
        "colab_type": "code",
        "colab": {
          "base_uri": "https://localhost:8080/",
          "height": 50
        },
        "outputId": "73089e3c-c81a-4e54-a461-72fc328df644"
      },
      "source": [
        "# range of ratings\n",
        "print(\"Min rating:{}\\nMax rating:{}\".format(ratings['rating'].min(), ratings['rating'].max()))"
      ],
      "execution_count": 109,
      "outputs": [
        {
          "output_type": "stream",
          "text": [
            "Min rating:1\n",
            "Max rating:5\n"
          ],
          "name": "stdout"
        }
      ]
    },
    {
      "cell_type": "markdown",
      "metadata": {
        "id": "Rj-GBDDBEFTh",
        "colab_type": "text"
      },
      "source": [
        "**Checking if there are multiple ratings given by same user on same book**"
      ]
    },
    {
      "cell_type": "code",
      "metadata": {
        "id": "TxR12aB8EFTi",
        "colab_type": "code",
        "colab": {}
      },
      "source": [
        "count = 0\n",
        "ratings_clean = ratings.drop_duplicates([\"book_id\", \"user_id\"])"
      ],
      "execution_count": 110,
      "outputs": []
    },
    {
      "cell_type": "code",
      "metadata": {
        "id": "EXJKludeEFTj",
        "colab_type": "code",
        "colab": {
          "base_uri": "https://localhost:8080/",
          "height": 34
        },
        "outputId": "f4e861b3-7edf-4cfa-a49b-f202cab94f3b"
      },
      "source": [
        "print(\"No. of duplicate ratings: {}\".format(ratings.shape[0]- ratings_clean.shape[0]))"
      ],
      "execution_count": 111,
      "outputs": [
        {
          "output_type": "stream",
          "text": [
            "No. of duplicate ratings: 2278\n"
          ],
          "name": "stdout"
        }
      ]
    },
    {
      "cell_type": "code",
      "metadata": {
        "id": "fLXw51X_EFTl",
        "colab_type": "code",
        "colab": {}
      },
      "source": [
        "ratings = ratings_clean"
      ],
      "execution_count": 112,
      "outputs": []
    },
    {
      "cell_type": "markdown",
      "metadata": {
        "id": "tA0u2FIZEFTn",
        "colab_type": "text"
      },
      "source": [
        "**Checking the most frequent rating users give**"
      ]
    },
    {
      "cell_type": "code",
      "metadata": {
        "scrolled": true,
        "id": "FzYHJETEEFTo",
        "colab_type": "code",
        "colab": {
          "base_uri": "https://localhost:8080/",
          "height": 282
        },
        "outputId": "6b9c12e5-a310-445f-e542-ab7f9f98fc70"
      },
      "source": [
        "ratings['rating'].hist(bins=5)"
      ],
      "execution_count": 113,
      "outputs": [
        {
          "output_type": "execute_result",
          "data": {
            "text/plain": [
              "<matplotlib.axes._subplots.AxesSubplot at 0x7fca778ad9b0>"
            ]
          },
          "metadata": {
            "tags": []
          },
          "execution_count": 113
        },
        {
          "output_type": "display_data",
          "data": {
            "image/png": "[encoded data removed]",
            "text/plain": [
              "<Figure size 432x288 with 1 Axes>"
            ]
          },
          "metadata": {
            "tags": [],
            "needs_background": "light"
          }
        }
      ]
    },
    {
      "cell_type": "markdown",
      "metadata": {
        "id": "iyok-rpTEFTr",
        "colab_type": "text"
      },
      "source": [
        "Most users have given rating 4"
      ]
    },
    {
      "cell_type": "code",
      "metadata": {
        "id": "xJLdc76zEFTs",
        "colab_type": "code",
        "colab": {}
      },
      "source": [
        "# Dropping duplicates rows\n",
        "books = books.drop_duplicates()\n",
        "book_tags = book_tags.drop_duplicates()\n",
        "tags= tags.drop_duplicates()"
      ],
      "execution_count": 114,
      "outputs": []
    },
    {
      "cell_type": "code",
      "metadata": {
        "id": "2YWnbtJWEFTt",
        "colab_type": "code",
        "colab": {
          "base_uri": "https://localhost:8080/",
          "height": 67
        },
        "outputId": "bcc78d2e-d1d3-450d-de1d-b169f56c40ff"
      },
      "source": [
        "print(\"Total number of ratings all the users have given:{}\".format(ratings.shape[0]))\n",
        "print(\"Total number of unique users:{}\".format(ratings['user_id'].nunique()))\n",
        "print(\"Total number of books:{}\".format(books.shape[0]))"
      ],
      "execution_count": 115,
      "outputs": [
        {
          "output_type": "stream",
          "text": [
            "Total number of ratings all the users have given:979478\n",
            "Total number of unique users:53424\n",
            "Total number of books:10000\n"
          ],
          "name": "stdout"
        }
      ]
    },
    {
      "cell_type": "markdown",
      "metadata": {
        "id": "cui5dXBxEFTv",
        "colab_type": "text"
      },
      "source": [
        "# Approach\n",
        "\n",
        "**There are 3 wasy an engine can recommend books to user:**\n",
        "1. **Popularity Model**: Suggesting most popular books that other users have given, based on the ratings count of the book.It is    not personalised to the user as it only takes into account what other users have read/reviewed.\n",
        "\n",
        "\n",
        "2. **Content Based Model**: It suggests books based on the reading history of a user. It is limited in recommendation as it will    suggest only books similar to what the user has previously read-> same genre, same authors etc.\n",
        "\n",
        "\n",
        "3. **Collaborative Model**: It takes into account the preferences of both the user and similar users. If user A has bought a        book, and user B has also bought the same book, then for A, it is best to recommend a book which B has bought and A hasn't      read it.\n",
        "\n",
        "**I'll use collaborative filtering**"
      ]
    },
    {
      "cell_type": "markdown",
      "metadata": {
        "id": "uvAJt___GQnS",
        "colab_type": "text"
      },
      "source": [
        "## Model"
      ]
    },
    {
      "cell_type": "code",
      "metadata": {
        "id": "-EcdAbtVEFTw",
        "colab_type": "code",
        "colab": {}
      },
      "source": [
        "from sklearn.model_selection import train_test_split\n",
        "from sklearn.preprocessing import LabelEncoder"
      ],
      "execution_count": 116,
      "outputs": []
    },
    {
      "cell_type": "markdown",
      "metadata": {
        "id": "QDNlt4LhHkXd",
        "colab_type": "text"
      },
      "source": [
        "**Creating embeddings that represent semantic relationship b/w users and books**"
      ]
    },
    {
      "cell_type": "code",
      "metadata": {
        "id": "KBkQlUWfIifx",
        "colab_type": "code",
        "colab": {}
      },
      "source": [
        "n_users = ratings['user_id'].nunique()\n",
        "n_books = ratings['book_id'].nunique()"
      ],
      "execution_count": 117,
      "outputs": []
    },
    {
      "cell_type": "code",
      "metadata": {
        "id": "jOYdI0auJ0ln",
        "colab_type": "code",
        "colab": {}
      },
      "source": [
        "X = ratings[['user_id', 'book_id']].values\n",
        "y = ratings.rating.values"
      ],
      "execution_count": 118,
      "outputs": []
    },
    {
      "cell_type": "markdown",
      "metadata": {
        "id": "8Eg9oDsKGbFQ",
        "colab_type": "text"
      },
      "source": [
        "**Splitting into train and test data**"
      ]
    },
    {
      "cell_type": "code",
      "metadata": {
        "id": "hq75vd7RGxi3",
        "colab_type": "code",
        "colab": {
          "base_uri": "https://localhost:8080/",
          "height": 34
        },
        "outputId": "b2ca5c4c-c3c2-49cc-cc36-c5cd5bbd3a54"
      },
      "source": [
        "X_train, X_test, y_train, y_test = train_test_split(X, y, test_size=0.2, random_state=0)\n",
        "print(X_train.shape, y_test.shape)"
      ],
      "execution_count": 119,
      "outputs": [
        {
          "output_type": "stream",
          "text": [
            "(783582, 2) (195896,)\n"
          ],
          "name": "stdout"
        }
      ]
    },
    {
      "cell_type": "code",
      "metadata": {
        "id": "29fGwuHXLkXP",
        "colab_type": "code",
        "colab": {}
      },
      "source": [
        "X_train = [X_train[:, 0], X_train[:, 1]]\n",
        "X_test = [X_test[:, 0], X_test[:, 1]]"
      ],
      "execution_count": 120,
      "outputs": []
    },
    {
      "cell_type": "markdown",
      "metadata": {
        "id": "KLESdjvzJN8L",
        "colab_type": "text"
      },
      "source": [
        "**User embedding will represent user's personal taste, book embedding will represent book's characteristics**"
      ]
    },
    {
      "cell_type": "code",
      "metadata": {
        "id": "qQgkCj2uIawD",
        "colab_type": "code",
        "colab": {}
      },
      "source": [
        "from keras.layers import Input, Embedding, Flatten, Dot, Dense, Dropout, Lambda, Concatenate\n",
        "from keras.models import Model, Sequential"
      ],
      "execution_count": 121,
      "outputs": []
    },
    {
      "cell_type": "code",
      "metadata": {
        "id": "37FyuG7OLS2h",
        "colab_type": "code",
        "colab": {}
      },
      "source": [
        "emb_dim = 10\n",
        "\n",
        "def recommender(num_users, num_books, emb_dim, min_rating, max_rating):\n",
        "  user = Input(shape=(1,))\n",
        "  user_emb = Embedding(num_users+1, emb_dim)\n",
        "  user_vec = Flatten()(user_emb(user))\n",
        "\n",
        "  book = Input(shape=(1,))\n",
        "  book_emb = Embedding(num_books+1, emb_dim)\n",
        "  book_vec = Flatten()(book_emb(book))\n",
        "\n",
        "  merge = Concatenate()([book_vec, user_vec])\n",
        "\n",
        "  x = Dense(16, kernel_initializer='he_normal', activation='relu')(merge)\n",
        "  x = Dropout(0.5)(x)\n",
        "  out = Dense(1, kernel_initializer='he_normal', activation='sigmoid')(x)\n",
        "  out = Lambda(lambda x: x * (max_rating - min_rating) + min_rating)(out)\n",
        "\n",
        "  model = Model([user, book], out)\n",
        "  model.compile(optimizer='adam', loss='mse') \n",
        "\n",
        "  return model"
      ],
      "execution_count": 122,
      "outputs": []
    },
    {
      "cell_type": "code",
      "metadata": {
        "id": "albCx3hwK5tk",
        "colab_type": "code",
        "colab": {
          "base_uri": "https://localhost:8080/",
          "height": 538
        },
        "outputId": "d3476c25-f291-471f-e6ca-cdef6df819fd"
      },
      "source": [
        "model = recommender(n_users, n_books, emb_dim, ratings.rating.min(), ratings.rating.max())\n",
        "model.summary()"
      ],
      "execution_count": 123,
      "outputs": [
        {
          "output_type": "stream",
          "text": [
            "Model: \"functional_5\"\n",
            "__________________________________________________________________________________________________\n",
            "Layer (type)                    Output Shape         Param #     Connected to                     \n",
            "==================================================================================================\n",
            "input_6 (InputLayer)            [(None, 1)]          0                                            \n",
            "__________________________________________________________________________________________________\n",
            "input_5 (InputLayer)            [(None, 1)]          0                                            \n",
            "__________________________________________________________________________________________________\n",
            "embedding_5 (Embedding)         (None, 1, 10)        100010      input_6[0][0]                    \n",
            "__________________________________________________________________________________________________\n",
            "embedding_4 (Embedding)         (None, 1, 10)        534250      input_5[0][0]                    \n",
            "__________________________________________________________________________________________________\n",
            "flatten_5 (Flatten)             (None, 10)           0           embedding_5[0][0]                \n",
            "__________________________________________________________________________________________________\n",
            "flatten_4 (Flatten)             (None, 10)           0           embedding_4[0][0]                \n",
            "__________________________________________________________________________________________________\n",
            "concatenate_2 (Concatenate)     (None, 20)           0           flatten_5[0][0]                  \n",
            "                                                                 flatten_4[0][0]                  \n",
            "__________________________________________________________________________________________________\n",
            "dense_4 (Dense)                 (None, 16)           336         concatenate_2[0][0]              \n",
            "__________________________________________________________________________________________________\n",
            "dropout_2 (Dropout)             (None, 16)           0           dense_4[0][0]                    \n",
            "__________________________________________________________________________________________________\n",
            "dense_5 (Dense)                 (None, 1)            17          dropout_2[0][0]                  \n",
            "__________________________________________________________________________________________________\n",
            "lambda_2 (Lambda)               (None, 1)            0           dense_5[0][0]                    \n",
            "==================================================================================================\n",
            "Total params: 634,613\n",
            "Trainable params: 634,613\n",
            "Non-trainable params: 0\n",
            "__________________________________________________________________________________________________\n"
          ],
          "name": "stdout"
        }
      ]
    },
    {
      "cell_type": "code",
      "metadata": {
        "id": "1yL9VLDwOeGF",
        "colab_type": "code",
        "colab": {
          "base_uri": "https://localhost:8080/",
          "height": 386
        },
        "outputId": "48688731-bb68-4d59-9b55-b9c3e9e469ea"
      },
      "source": [
        "%%time\n",
        "history = model.fit(x=X_train, y=y_train, batch_size=64, epochs=10, verbose=1, validation_data=(X_test, y_test))"
      ],
      "execution_count": 124,
      "outputs": [
        {
          "output_type": "stream",
          "text": [
            "Epoch 1/10\n",
            "12244/12244 [==============================] - 108s 9ms/step - loss: 0.8174 - val_loss: 0.7200\n",
            "Epoch 2/10\n",
            "12244/12244 [==============================] - 112s 9ms/step - loss: 0.7110 - val_loss: 0.7041\n",
            "Epoch 3/10\n",
            "12244/12244 [==============================] - 109s 9ms/step - loss: 0.6858 - val_loss: 0.7005\n",
            "Epoch 4/10\n",
            "12244/12244 [==============================] - 108s 9ms/step - loss: 0.6710 - val_loss: 0.6998\n",
            "Epoch 5/10\n",
            "12244/12244 [==============================] - 109s 9ms/step - loss: 0.6605 - val_loss: 0.7008\n",
            "Epoch 6/10\n",
            "12244/12244 [==============================] - 107s 9ms/step - loss: 0.6533 - val_loss: 0.7036\n",
            "Epoch 7/10\n",
            "12244/12244 [==============================] - 106s 9ms/step - loss: 0.6478 - val_loss: 0.7045\n",
            "Epoch 8/10\n",
            "12244/12244 [==============================] - 108s 9ms/step - loss: 0.6426 - val_loss: 0.7051\n",
            "Epoch 9/10\n",
            "12244/12244 [==============================] - 101s 8ms/step - loss: 0.6383 - val_loss: 0.7074\n",
            "Epoch 10/10\n",
            "12244/12244 [==============================] - 100s 8ms/step - loss: 0.6345 - val_loss: 0.7079\n",
            "CPU times: user 26min 40s, sys: 1min 57s, total: 28min 38s\n",
            "Wall time: 17min 47s\n"
          ],
          "name": "stdout"
        }
      ]
    },
    {
      "cell_type": "code",
      "metadata": {
        "id": "kggzayG0n-jM",
        "colab_type": "code",
        "colab": {
          "base_uri": "https://localhost:8080/",
          "height": 34
        },
        "outputId": "3394d831-17a6-49de-fe00-1fa8ecc9acf3"
      },
      "source": [
        "model.metrics_names"
      ],
      "execution_count": 125,
      "outputs": [
        {
          "output_type": "execute_result",
          "data": {
            "text/plain": [
              "['loss']"
            ]
          },
          "metadata": {
            "tags": []
          },
          "execution_count": 125
        }
      ]
    },
    {
      "cell_type": "code",
      "metadata": {
        "id": "wb6IYpyfOtuG",
        "colab_type": "code",
        "colab": {
          "base_uri": "https://localhost:8080/",
          "height": 295
        },
        "outputId": "7055187f-e214-439a-a249-4a1b90321927"
      },
      "source": [
        "\n",
        "# \"Loss\"\n",
        "plt.plot(history.history['loss'])\n",
        "plt.plot(history.history['val_loss'])\n",
        "plt.title('model loss')\n",
        "plt.ylabel('loss')\n",
        "plt.xlabel('epoch')\n",
        "plt.legend(['train', 'validation'], loc='upper left')\n",
        "plt.show()"
      ],
      "execution_count": 126,
      "outputs": [
        {
          "output_type": "display_data",
          "data": {
            "image/png": "[encoded data removed]",
            "text/plain": [
              "<Figure size 432x288 with 1 Axes>"
            ]
          },
          "metadata": {
            "tags": [],
            "needs_background": "light"
          }
        }
      ]
    },
    {
      "cell_type": "markdown",
      "metadata": {
        "id": "A5MHwCddoVJf",
        "colab_type": "text"
      },
      "source": [
        "I have only trained for 10 epochs as time constraint was there. Also, we could train on gpu runtime.\n",
        "I tried different hyperparameters emb_dims, initializatioin_methods. This has given min loss for these epochs"
      ]
    },
    {
      "cell_type": "code",
      "metadata": {
        "id": "Rqzj6aAhjLgJ",
        "colab_type": "code",
        "colab": {}
      },
      "source": [
        "model.save('recommender_model.h5')"
      ],
      "execution_count": 127,
      "outputs": []
    },
    {
      "cell_type": "code",
      "metadata": {
        "id": "2Drc8KuvqWD6",
        "colab_type": "code",
        "colab": {}
      },
      "source": [
        "user_emb =model.get_layer(index=2)\n",
        "book_emb = model.get_layer(index=3)"
      ],
      "execution_count": 128,
      "outputs": []
    },
    {
      "cell_type": "markdown",
      "metadata": {
        "id": "D1-l4YzajIOm",
        "colab_type": "text"
      },
      "source": [
        "# Book recommendation"
      ]
    },
    {
      "cell_type": "code",
      "metadata": {
        "id": "3IDIyPoIhfCU",
        "colab_type": "code",
        "colab": {}
      },
      "source": [
        "def recommend_books_for(user):\n",
        "  emb_user = user_emb.get_weights()[0]\n",
        "  emb_book = book_emb.get_weights()[0]\n",
        "  \n",
        "  \n",
        "  books_ranked_for_user = (np.dot(emb_book, emb_user[user]))\n",
        "\n",
        "  top_book_ids = np.argsort(books_ranked_for_user)[-5:]\n",
        "  df = books[books.book_id.isin(top_book_ids)][['title', 'authors','average_rating']]\n",
        "  return df"
      ],
      "execution_count": 171,
      "outputs": []
    },
    {
      "cell_type": "code",
      "metadata": {
        "id": "nM_gMOVXCUNo",
        "colab_type": "code",
        "colab": {}
      },
      "source": [
        "this_user = 4562"
      ],
      "execution_count": 172,
      "outputs": []
    },
    {
      "cell_type": "code",
      "metadata": {
        "id": "JuL3-NKn4MaF",
        "colab_type": "code",
        "colab": {
          "base_uri": "https://localhost:8080/",
          "height": 123
        },
        "outputId": "5121487b-5ffd-4052-a7da-6346a2d674e7"
      },
      "source": [
        "print(\"User {} has read:\".format(this_user))\n",
        "r = ratings[ratings['user_id']==4562].book_id\n",
        "books[books['book_id'].isin(r)][['title', 'authors', 'average_rating']]"
      ],
      "execution_count": 175,
      "outputs": [
        {
          "output_type": "stream",
          "text": [
            "User 4562 has read:\n"
          ],
          "name": "stdout"
        },
        {
          "output_type": "execute_result",
          "data": {
            "text/html": [
              "<div>\n",
              "<style scoped>\n",
              "    .dataframe tbody tr th:only-of-type {\n",
              "        vertical-align: middle;\n",
              "    }\n",
              "\n",
              "    .dataframe tbody tr th {\n",
              "        vertical-align: top;\n",
              "    }\n",
              "\n",
              "    .dataframe thead th {\n",
              "        text-align: right;\n",
              "    }\n",
              "</style>\n",
              "<table border=\"1\" class=\"dataframe\">\n",
              "  <thead>\n",
              "    <tr style=\"text-align: right;\">\n",
              "      <th></th>\n",
              "      <th>title</th>\n",
              "      <th>authors</th>\n",
              "      <th>average_rating</th>\n",
              "    </tr>\n",
              "  </thead>\n",
              "  <tbody>\n",
              "    <tr>\n",
              "      <th>484</th>\n",
              "      <td>The Brothers Karamazov</td>\n",
              "      <td>Fyodor Dostoyevsky, Richard Pevear, Larissa Vo...</td>\n",
              "      <td>4.30</td>\n",
              "    </tr>\n",
              "    <tr>\n",
              "      <th>2736</th>\n",
              "      <td>The Big Bad Wolf  (Alex Cross, #9)</td>\n",
              "      <td>James Patterson</td>\n",
              "      <td>3.97</td>\n",
              "    </tr>\n",
              "  </tbody>\n",
              "</table>\n",
              "</div>"
            ],
            "text/plain": [
              "                                   title  ... average_rating\n",
              "484               The Brothers Karamazov  ...           4.30\n",
              "2736  The Big Bad Wolf  (Alex Cross, #9)  ...           3.97\n",
              "\n",
              "[2 rows x 3 columns]"
            ]
          },
          "metadata": {
            "tags": []
          },
          "execution_count": 175
        }
      ]
    },
    {
      "cell_type": "code",
      "metadata": {
        "id": "d604BPY1lpvM",
        "colab_type": "code",
        "colab": {
          "base_uri": "https://localhost:8080/",
          "height": 94
        },
        "outputId": "e141bb67-7b2f-4714-afd9-9839deda8e2e"
      },
      "source": [
        "print(\"Top recommendations for user {}\".format(this_user))\n",
        "top_books = recommend_books_for(this_user)\n",
        "top_books"
      ],
      "execution_count": 176,
      "outputs": [
        {
          "output_type": "stream",
          "text": [
            "Top recommendations for user 4562\n"
          ],
          "name": "stdout"
        },
        {
          "output_type": "execute_result",
          "data": {
            "text/html": [
              "<div>\n",
              "<style scoped>\n",
              "    .dataframe tbody tr th:only-of-type {\n",
              "        vertical-align: middle;\n",
              "    }\n",
              "\n",
              "    .dataframe tbody tr th {\n",
              "        vertical-align: top;\n",
              "    }\n",
              "\n",
              "    .dataframe thead th {\n",
              "        text-align: right;\n",
              "    }\n",
              "</style>\n",
              "<table border=\"1\" class=\"dataframe\">\n",
              "  <thead>\n",
              "    <tr style=\"text-align: right;\">\n",
              "      <th></th>\n",
              "      <th>title</th>\n",
              "      <th>authors</th>\n",
              "      <th>average_rating</th>\n",
              "    </tr>\n",
              "  </thead>\n",
              "  <tbody>\n",
              "    <tr>\n",
              "      <th>1366</th>\n",
              "      <td>The Once and Future King (The Once and Future ...</td>\n",
              "      <td>T.H. White</td>\n",
              "      <td>4.08</td>\n",
              "    </tr>\n",
              "  </tbody>\n",
              "</table>\n",
              "</div>"
            ],
            "text/plain": [
              "                                                  title  ... average_rating\n",
              "1366  The Once and Future King (The Once and Future ...  ...           4.08\n",
              "\n",
              "[1 rows x 3 columns]"
            ]
          },
          "metadata": {
            "tags": []
          },
          "execution_count": 176
        }
      ]
    }
  ]
}